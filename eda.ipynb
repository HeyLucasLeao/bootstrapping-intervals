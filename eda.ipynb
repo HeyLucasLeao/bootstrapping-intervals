{
 "cells": [
  {
   "cell_type": "code",
   "execution_count": 1,
   "metadata": {},
   "outputs": [],
   "source": [
    "import pandas as pd\n",
    "import numpy as np\n",
    "import math\n",
    "from scipy.stats import norm"
   ]
  },
  {
   "cell_type": "code",
   "execution_count": 2,
   "metadata": {},
   "outputs": [],
   "source": [
    "df = pd.read_csv(\"/home/lucasleao/bootstrapping-intervals/data/risk_factors_cervical_cancer.csv\")\n",
    "\n",
    "# Exemplo de uso:\n",
    "data = df[df[\"Dx:Cancer\"] == 1][\"Age\"]\n",
    "num_samples = len(data)\n",
    "num_iterations = 1000"
   ]
  },
  {
   "cell_type": "markdown",
   "metadata": {},
   "source": [
    "Boostrapping Normal Interval Confidence"
   ]
  },
  {
   "cell_type": "code",
   "execution_count": 3,
   "metadata": {},
   "outputs": [
    {
     "name": "stdout",
     "output_type": "stream",
     "text": [
      "Estimated Mean: 33.306444444444445\n",
      "Estimated Standard Deviation: 7.643030665955143\n"
     ]
    }
   ],
   "source": [
    "def bootstrapping_mean_std(data, num_samples, num_iterations=1000):\n",
    "    \"\"\"\n",
    "    Perform bootstrapping on the given data to estimate the mean and standard deviation.\n",
    "\n",
    "    Parameters:\n",
    "    data (array-like): The input data for bootstrapping.\n",
    "    num_samples (int): The number of samples to draw in each bootstrap iteration.\n",
    "    num_iterations (int): The number of bootstrap iterations to perform.\n",
    "\n",
    "    Returns:\n",
    "    tuple: A tuple containing the mean and standard deviation of the bootstrap means.\n",
    "    \n",
    "    Purpose:\n",
    "    This function aims to provide a robust estimate of the mean and its variability by performing\n",
    "    bootstrapping. Bootstrapping is a statistical method that involves repeated random sampling\n",
    "    with replacement from a dataset to approximate the distribution of a statistic.\n",
    "    \"\"\"\n",
    "    np.random.seed(42)\n",
    "    bootstrap_means = np.zeros(num_iterations)\n",
    "    bootstrap_std_dev = np.zeros(num_iterations)\n",
    "\n",
    "    for i in range(num_iterations):\n",
    "        bootstrap_sample = np.random.choice(data, size=num_samples, replace=True)\n",
    "        bootstrap_means[i] = np.mean(bootstrap_sample)\n",
    "        bootstrap_std_dev[i] = np.std(bootstrap_sample)\n",
    "    \n",
    "    return bootstrap_means.mean(), bootstrap_std_dev.mean()\n",
    "\n",
    "mean, std_dev = bootstrapping_mean_std(data, num_samples, num_iterations)\n",
    "\n",
    "print(f\"Estimated Mean: {mean}\")\n",
    "print(f\"Estimated Standard Deviation: {std_dev}\")"
   ]
  },
  {
   "cell_type": "code",
   "execution_count": 4,
   "metadata": {},
   "outputs": [],
   "source": [
    "def interval_confidence(confidence_level, std_dev, mean, n):\n",
    "    \"\"\"\n",
    "    Calculates the margin of error and confidence interval for the mean of a sample.\n",
    "\n",
    "    Parameters:\n",
    "    - confidence_level (float): Desired confidence level (e.g., 0.95 for 95%).\n",
    "    - std_dev (float): Standard deviation of the sample.\n",
    "    - mean (float): Mean of the sample.\n",
    "    - n (int): Sample size (number of observations).\n",
    "\n",
    "    Returns:\n",
    "    - float: The margin of error.\n",
    "    - list: List containing the lower and upper bounds of the confidence interval rounded to two decimal places.\n",
    "    \"\"\"\n",
    "    def se(std_dev, n):\n",
    "        \"\"\"\n",
    "        Calculates the standard error of the mean.\n",
    "\n",
    "        Parameters:\n",
    "        - std_dev (float): Standard deviation of the sample.\n",
    "        - n (int): Sample size (number of observations).\n",
    "\n",
    "        Returns:\n",
    "        - float: Standard error of the mean.\n",
    "        \"\"\"\n",
    "        return std_dev / math.sqrt(n)\n",
    "\n",
    "    # Calculates the z-score corresponding to the desired confidence level.\n",
    "    z_score = norm.ppf((1 + confidence_level) / 2)\n",
    "    se_value = se(std_dev, n) \n",
    "    margin_error = z_score * se_value\n",
    "\n",
    "    return margin_error, [round(mean - margin_error, 2), round(mean + margin_error, 2)]"
   ]
  },
  {
   "cell_type": "code",
   "execution_count": 5,
   "metadata": {},
   "outputs": [
    {
     "data": {
      "text/plain": [
       "(3.5308351431897, [29.78, 36.84])"
      ]
     },
     "execution_count": 5,
     "metadata": {},
     "output_type": "execute_result"
    }
   ],
   "source": [
    "interval_confidence(0.95, std_dev, mean, len(data))"
   ]
  },
  {
   "cell_type": "code",
   "execution_count": 6,
   "metadata": {},
   "outputs": [],
   "source": [
    "def optimal_sample(confidence_level, std_dev, std_error):\n",
    "    \"\"\"\n",
    "    Calculates the optimal sample size needed to achieve a desired standard error for a given confidence level and standard deviation.\n",
    "\n",
    "    Parameters:\n",
    "    - confidence_level (float): Desired confidence level (e.g., 0.95 for 95%).\n",
    "    - std_dev (float): Standard deviation of the population.\n",
    "    - std_error (float): Desired standard error of the mean.\n",
    "\n",
    "    Returns:\n",
    "    - int: The optimal sample size, rounded to the nearest integer.\n",
    "    \"\"\"\n",
    "    z_score = norm.ppf((1 + confidence_level) / 2)  # Calculates the z-score corresponding to the desired confidence level.\n",
    "    return round((z_score ** 2) * (std_dev ** 2) / (std_error ** 2))  # Calculates and returns the optimal sample size."
   ]
  },
  {
   "cell_type": "code",
   "execution_count": 7,
   "metadata": {},
   "outputs": [
    {
     "data": {
      "text/plain": [
       "158"
      ]
     },
     "execution_count": 7,
     "metadata": {},
     "output_type": "execute_result"
    }
   ],
   "source": [
    "optimal_sample(0.90, std_dev, 1)"
   ]
  },
  {
   "cell_type": "markdown",
   "metadata": {},
   "source": [
    "Boostrapping Percentile Interval Confidence"
   ]
  },
  {
   "cell_type": "code",
   "execution_count": 8,
   "metadata": {},
   "outputs": [],
   "source": [
    "def bootstraping_percentile_confidence_interval(data, confidence_level, num_iterations=1000):\n",
    "    \"\"\"\n",
    "    Calculates the percentile bootstrap confidence interval for the mean of the given data.\n",
    "\n",
    "    Parameters:\n",
    "    - data (list or numpy array): Sample data.\n",
    "    - confidence_level (float): Desired confidence level (e.g., 0.95 for 95%).\n",
    "    - num_resamples (int): Number of bootstrap resamples to perform. Default is 1000.\n",
    "\n",
    "    Returns:\n",
    "    - list: List containing the lower and upper bounds of the confidence interval rounded to two decimal places.\n",
    "    \"\"\"\n",
    "    np.random.seed(42)\n",
    "    sample_means = np.zeros(num_iterations)\n",
    "    \n",
    "    for i in range(num_iterations):\n",
    "        resample = np.random.choice(data, size=len(data), replace=True)\n",
    "        sample_means[i] = np.mean(resample)\n",
    "\n",
    "    lower_bound = np.percentile(sample_means, (1 - confidence_level) / 2 * 100)\n",
    "    upper_bound = np.percentile(sample_means, (1 + confidence_level) / 2 * 100)\n",
    "    \n",
    "    return [round(lower_bound, 2), round(upper_bound, 2)]"
   ]
  },
  {
   "cell_type": "code",
   "execution_count": null,
   "metadata": {},
   "outputs": [
    {
     "data": {
      "text/plain": [
       "[29.83, 37.17]"
      ]
     },
     "execution_count": 9,
     "metadata": {},
     "output_type": "execute_result"
    }
   ],
   "source": [
    "bootstraping_percentile_confidence_interval(data, 0.95)"
   ]
  }
 ],
 "metadata": {
  "kernelspec": {
   "display_name": "autorizai",
   "language": "python",
   "name": "python3"
  },
  "language_info": {
   "codemirror_mode": {
    "name": "ipython",
    "version": 3
   },
   "file_extension": ".py",
   "mimetype": "text/x-python",
   "name": "python",
   "nbconvert_exporter": "python",
   "pygments_lexer": "ipython3",
   "version": "3.10.14"
  }
 },
 "nbformat": 4,
 "nbformat_minor": 2
}
